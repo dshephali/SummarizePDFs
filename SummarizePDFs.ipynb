{
 "cells": [
  {
   "cell_type": "code",
   "execution_count": 1,
   "id": "3c4438f3-aa69-47d8-ae7b-aac5f0c432c5",
   "metadata": {},
   "outputs": [
    {
     "name": "stdout",
     "output_type": "stream",
     "text": [
      "Requirement already satisfied: PyPDF2 in /opt/anaconda3/envs/ai_dev/lib/python3.10/site-packages (3.0.1)\n",
      "Requirement already satisfied: transformers in /opt/anaconda3/envs/ai_dev/lib/python3.10/site-packages (4.45.1)\n",
      "Requirement already satisfied: torch in /opt/anaconda3/envs/ai_dev/lib/python3.10/site-packages (2.4.0)\n",
      "Requirement already satisfied: filelock in /opt/anaconda3/envs/ai_dev/lib/python3.10/site-packages (from transformers) (3.15.4)\n",
      "Requirement already satisfied: huggingface-hub<1.0,>=0.23.2 in /opt/anaconda3/envs/ai_dev/lib/python3.10/site-packages (from transformers) (0.24.5)\n",
      "Requirement already satisfied: numpy>=1.17 in /opt/anaconda3/envs/ai_dev/lib/python3.10/site-packages (from transformers) (1.26.4)\n",
      "Requirement already satisfied: packaging>=20.0 in /opt/anaconda3/envs/ai_dev/lib/python3.10/site-packages (from transformers) (23.2)\n",
      "Requirement already satisfied: pyyaml>=5.1 in /opt/anaconda3/envs/ai_dev/lib/python3.10/site-packages (from transformers) (6.0.1)\n",
      "Requirement already satisfied: regex!=2019.12.17 in /Users/shephalidubey/.local/lib/python3.10/site-packages (from transformers) (2024.7.24)\n",
      "Requirement already satisfied: requests in /opt/anaconda3/envs/ai_dev/lib/python3.10/site-packages (from transformers) (2.31.0)\n",
      "Requirement already satisfied: safetensors>=0.4.1 in /opt/anaconda3/envs/ai_dev/lib/python3.10/site-packages (from transformers) (0.4.3)\n",
      "Requirement already satisfied: tokenizers<0.21,>=0.20 in /opt/anaconda3/envs/ai_dev/lib/python3.10/site-packages (from transformers) (0.20.0)\n",
      "Requirement already satisfied: tqdm>=4.27 in /opt/anaconda3/envs/ai_dev/lib/python3.10/site-packages (from transformers) (4.66.2)\n",
      "Requirement already satisfied: typing-extensions>=4.8.0 in /opt/anaconda3/envs/ai_dev/lib/python3.10/site-packages (from torch) (4.12.2)\n",
      "Requirement already satisfied: sympy in /opt/anaconda3/envs/ai_dev/lib/python3.10/site-packages (from torch) (1.13.1)\n",
      "Requirement already satisfied: networkx in /opt/anaconda3/envs/ai_dev/lib/python3.10/site-packages (from torch) (3.3)\n",
      "Requirement already satisfied: jinja2 in /opt/anaconda3/envs/ai_dev/lib/python3.10/site-packages (from torch) (3.1.3)\n",
      "Requirement already satisfied: fsspec in /opt/anaconda3/envs/ai_dev/lib/python3.10/site-packages (from torch) (2024.6.1)\n",
      "Requirement already satisfied: MarkupSafe>=2.0 in /opt/anaconda3/envs/ai_dev/lib/python3.10/site-packages (from jinja2->torch) (2.1.3)\n",
      "Requirement already satisfied: charset-normalizer<4,>=2 in /opt/anaconda3/envs/ai_dev/lib/python3.10/site-packages (from requests->transformers) (2.0.4)\n",
      "Requirement already satisfied: idna<4,>=2.5 in /opt/anaconda3/envs/ai_dev/lib/python3.10/site-packages (from requests->transformers) (3.4)\n",
      "Requirement already satisfied: urllib3<3,>=1.21.1 in /opt/anaconda3/envs/ai_dev/lib/python3.10/site-packages (from requests->transformers) (2.2.2)\n",
      "Requirement already satisfied: certifi>=2017.4.17 in /opt/anaconda3/envs/ai_dev/lib/python3.10/site-packages (from requests->transformers) (2024.7.4)\n",
      "Requirement already satisfied: mpmath<1.4,>=1.1.0 in /opt/anaconda3/envs/ai_dev/lib/python3.10/site-packages (from sympy->torch) (1.3.0)\n",
      "Note: you may need to restart the kernel to use updated packages.\n"
     ]
    }
   ],
   "source": [
    "pip install PyPDF2 transformers torch"
   ]
  },
  {
   "cell_type": "code",
   "execution_count": 2,
   "id": "9753a889-264c-42e2-9623-25821e2b3d2d",
   "metadata": {},
   "outputs": [
    {
     "name": "stderr",
     "output_type": "stream",
     "text": [
      "/opt/anaconda3/envs/ai_dev/lib/python3.10/site-packages/transformers/tokenization_utils_base.py:1617: FutureWarning: `clean_up_tokenization_spaces` was not set. It will be set to `True` by default. This behavior will be deprecated in transformers v4.45, and will be then set to `False` by default. For more details check this issue: https://github.com/huggingface/transformers/issues/31884\n",
      "  warnings.warn(\n",
      "Hardware accelerator e.g. GPU is available in the environment, but no `device` argument is passed to the `Pipeline` object. Model will be on CPU.\n",
      "/opt/anaconda3/envs/ai_dev/lib/python3.10/site-packages/langchain_core/_api/deprecation.py:141: LangChainDeprecationWarning: The class `ChatOpenAI` was deprecated in LangChain 0.0.10 and will be removed in 0.3.0. An updated version of the class exists in the langchain-openai package and should be used instead. To use it run `pip install -U langchain-openai` and import as `from langchain_openai import ChatOpenAI`.\n",
      "  warn_deprecated(\n",
      "/opt/anaconda3/envs/ai_dev/lib/python3.10/site-packages/langchain_core/_api/deprecation.py:141: LangChainDeprecationWarning: The method `BaseChatModel.__call__` was deprecated in langchain-core 0.1.7 and will be removed in 0.3.0. Use invoke instead.\n",
      "  warn_deprecated(\n"
     ]
    },
    {
     "name": "stdout",
     "output_type": "stream",
     "text": [
      "Running on local URL:  http://127.0.0.1:7860\n",
      "\n",
      "To create a public link, set `share=True` in `launch()`.\n"
     ]
    },
    {
     "data": {
      "text/html": [
       "<div><iframe src=\"http://127.0.0.1:7860/\" width=\"100%\" height=\"500\" allow=\"autoplay; camera; microphone; clipboard-read; clipboard-write;\" frameborder=\"0\" allowfullscreen></iframe></div>"
      ],
      "text/plain": [
       "<IPython.core.display.HTML object>"
      ]
     },
     "metadata": {},
     "output_type": "display_data"
    }
   ],
   "source": [
    "# Step 1\n",
    "import PyPDF2\n",
    "from transformers import pipeline\n",
    "import gradio as gr\n",
    "from langchain.chat_models import ChatOpenAI\n",
    "from langchain.schema import HumanMessage\n",
    "from dotenv import load_dotenv\n",
    "import os\n",
    "\n",
    "# Load environment variables\n",
    "load_dotenv('/users/shephalidubey/Documents/keys.env')\n",
    "\n",
    "# Set OpenAI API key\n",
    "OPENAI_API_KEY = os.getenv('OPENAI_API_KEY')\n",
    "\n",
    "# Function to extract text from PDF\n",
    "def extract_text_from_pdf(pdf_path):\n",
    "    text = \"\"\n",
    "    try:\n",
    "        with open(pdf_path, \"rb\") as file:\n",
    "            reader = PyPDF2.PdfReader(file)\n",
    "            for page in reader.pages:\n",
    "                text += page.extract_text() or \"\"\n",
    "    except Exception as e:\n",
    "        print(f\"Error reading PDF: {e}\")\n",
    "    return text\n",
    "\n",
    "# Function to summarize text\n",
    "def summarize_text(text):\n",
    "    max_input_length = 4096\n",
    "    text_chunks = [text[i:i + max_input_length] for i in range(0, len(text), max_input_length)]\n",
    "\n",
    "    summaries = []\n",
    "    chat_model = ChatOpenAI(openai_api_key=OPENAI_API_KEY, model=\"gpt-3.5-turbo\", temperature=0)\n",
    "\n",
    "    for chunk in text_chunks:\n",
    "        message = HumanMessage(content=f\"Summarize the following text:\\n\\n{chunk}\")\n",
    "        response = chat_model([message])\n",
    "        summary = response.content\n",
    "        summaries.append(summary)\n",
    "\n",
    "    return \"\\n\".join(summaries)\n",
    "\n",
    "# Initialize the question-answering pipeline\n",
    "question_answerer = pipeline(\"question-answering\", model='distilbert-base-cased-distilled-squad')\n",
    "\n",
    "# Function to answer questions based on the summary\n",
    "def question_answer(summary, question):\n",
    "    result = question_answerer(question=question, context=summary)\n",
    "    answer = result['answer']\n",
    "    score = result['score']\n",
    "    start = result['start']\n",
    "    end = result['end']\n",
    "    \n",
    "    return f\"**Question:** {question}\\n**Answer:** {answer}\\n**Score:** {score:.4f}\\n**Start Index:** {start}\\n**End Index:** {end}\"\n",
    "\n",
    "# Main function to integrate PDF summarization and Gradio\n",
    "def main(pdf_path):\n",
    "    text = extract_text_from_pdf(pdf_path)\n",
    "    if not text:\n",
    "        return \"No text found in PDF.\"\n",
    "    \n",
    "    summary = summarize_text(text)\n",
    "\n",
    "    # Create the Gradio app\n",
    "    app = gr.Interface(\n",
    "        fn=lambda question: question_answer(summary, question),\n",
    "        inputs=[\n",
    "            gr.Textbox(label=\"Ask a question about the PDF summary.\", lines=2)\n",
    "        ],\n",
    "        outputs=gr.Markdown(label=\"Answer to question, probability score, and location.\"),\n",
    "        title=\"PDF Summary Question Answering\",\n",
    "        description=\"Ask questions based on the summary of the uploaded PDF.\"\n",
    "    )\n",
    "\n",
    "    # Launch the app\n",
    "    app.launch(show_error=True)\n",
    "\n",
    "# Example usage\n",
    "if __name__ == \"__main__\":\n",
    "    pdf_path = \"/users/shephalidubey/Documents/AQI-DETECTIVES.pdf\"  # Replace with your PDF file path\n",
    "    main(pdf_path)\n"
   ]
  },
  {
   "cell_type": "markdown",
   "id": "2a93376f-5c44-4206-bb23-a07275b2efa6",
   "metadata": {},
   "source": [
    "Explanation\n",
    "extract_text_from_pdf: This function reads the PDF and extracts text from each page.\n",
    "summarize_text: This function uses a pre-trained summarization model from Hugging Face to generate a summary. Adjust the max_length and min_length parameters to fit your summarization needs.\n",
    "main: This function ties everything together. It extracts text from the PDF, summarizes it, and prints the summary.\n",
    "Running the Code\n",
    "Save the code to a file, e.g., pdf_summarizer.py.\n",
    "Replace \"example.pdf\" with the path to your PDF file.\n",
    "Run the script: python pdf_summarizer.py"
   ]
  },
  {
   "cell_type": "markdown",
   "id": "4affcbe1-fa27-4478-8ec1-8287b3ac962d",
   "metadata": {},
   "source": [
    "For summarizing very large texts, especially when working with PDFs, consider the following models and pipelines that are known for handling long documents effectively:\n",
    "\n",
    "1. Longformer\n",
    "Model: allenai/longformer-large-4096\n",
    "Description: Longformer is specifically designed to handle long documents by using a sparse attention mechanism. This allows it to process longer sequences than traditional transformers.facebook/bart-large-LED, which is a Longformer variant specifically designed for summarization tasks.\n",
    "Simplified Pipeline: The summarization is handled more directly without needing to deal with tokenizers separately.\n",
    "2. BigBird\n",
    "Model: google/bigbird-roberta-base\n",
    "Description: Similar to Longformer, BigBird can handle long sequences efficiently. It employs a combination of global and local attention, making it suitable for long texts.\n",
    "3. LED (Longformer Encoder-Decoder)\n",
    "Model: facebook/bart-large-LED\n",
    "Description: This model is built on Longformer and is designed for sequence-to-sequence tasks, like summarization, while supporting longer inputs.OSError: facebook/bart-large-LED is not a local folder and is not a valid model identifier listed on 'https://huggingface.co/models'\n",
    "If this is a private repository, make sure to pass a token having permission to this repo either by logging in with `huggingface-cli login` or by passing `token=<your_token>`\n",
    "4. GPT-3 or GPT-4 (if accessible)\n",
    "Description: If you have access to OpenAI’s API for GPT models, they can generate summaries for large texts effectively. You might need to break your text into smaller parts, but they handle context well."
   ]
  },
  {
   "cell_type": "markdown",
   "id": "267214ba-6d2f-40d1-ab75-f72c365add13",
   "metadata": {},
   "source": [
    "Additional Considerations\n",
    "Chunking: If the text is extremely long, you may still need to chunk it, as even these models have maximum input sizes.\n",
    "Preprocessing: Ensure the text extracted from the PDF is clean and properly formatted before summarization to improve the quality of the output.\n",
    "Performance: Keep an eye on performance and response time, especially with larger models, as they may require more resources."
   ]
  },
  {
   "cell_type": "markdown",
   "id": "e4df3124-d5db-4a9e-b77a-8496a70fc732",
   "metadata": {},
   "source": [
    "*FLASK FRONTEND INTERFACE*"
   ]
  },
  {
   "cell_type": "markdown",
   "id": "4d99d99a-7ff8-496d-b9ef-1f83184d51a8",
   "metadata": {},
   "source": [
    "#Step 2: Create a Frontend Interface -->\n",
    "#Set Up a Basic Web Interface: You can use Flask or Streamlit to create a simple web app. Here’s an example using Flask.\n",
    "\n",
    "pip install flask\n",
    "\n",
    "#Create the Flask App: Here’s a simple Flask app that allows file uploads."
   ]
  },
  {
   "cell_type": "code",
   "execution_count": null,
   "id": "0e8846bd-c2da-49dc-9ab1-14606386604a",
   "metadata": {},
   "outputs": [],
   "source": [
    "from flask import Flask, request, render_template\n",
    "import os\n",
    "\n",
    "app = Flask(__name__)\n",
    "app.config['UPLOAD_FOLDER'] = 'uploads/'\n",
    "\n",
    "@app.route('/')\n",
    "def upload_file():\n",
    "    return render_template('upload.html')\n",
    "\n",
    "@app.route('/upload', methods=['POST'])\n",
    "def handle_file_upload():\n",
    "    if 'file' not in request.files:\n",
    "        return \"No file uploaded\"\n",
    "    file = request.files['file']\n",
    "    if file.filename == '':\n",
    "        return \"No file selected\"\n",
    "    \n",
    "    file_path = os.path.join(app.config['UPLOAD_FOLDER'], file.filename)\n",
    "    file.save(file_path)\n",
    "\n",
    "    summary = summarize_pdf(file_path)\n",
    "    return f\"<h1>Summary</h1><p>{summary}</p>\"\n",
    "\n",
    "if __name__ == '__main__':\n",
    "    app.run(debug=True)"
   ]
  },
  {
   "cell_type": "code",
   "execution_count": null,
   "id": "30564d93-5fc7-43e7-9fd9-923dd033599a",
   "metadata": {},
   "outputs": [],
   "source": [
    "#Create the HTML Template: Create a folder named templates and add an upload.html file:"
   ]
  },
  {
   "cell_type": "code",
   "execution_count": null,
   "id": "4311ed47-cda5-436e-9d32-6c54e174a7bd",
   "metadata": {},
   "outputs": [],
   "source": [
    "<!doctype html>\n",
    "<html lang=\"en\">\n",
    "<head>\n",
    "    <meta charset=\"UTF-8\">\n",
    "    <meta name=\"viewport\" content=\"width=device-width, initial-scale=1.0\">\n",
    "    <title>Upload PDF</title>\n",
    "</head>\n",
    "<body>\n",
    "    <h1>Upload PDF to Summarize</h1>\n",
    "    <form method=\"post\" action=\"/upload\" enctype=\"multipart/form-data\">\n",
    "        <input type=\"file\" name=\"file\" accept=\".pdf\" required>\n",
    "        <input type=\"submit\" value=\"Upload\">\n",
    "    </form>\n",
    "</body>\n",
    "</html>"
   ]
  },
  {
   "cell_type": "code",
   "execution_count": null,
   "id": "c2f8a46a-6bc1-4c7d-a818-9c22150e678f",
   "metadata": {},
   "outputs": [],
   "source": [
    "#Step 3: Run Your Application\n",
    "#Run the Flask App: Run your Flask application using:"
   ]
  },
  {
   "cell_type": "code",
   "execution_count": null,
   "id": "894a1a4f-74f4-4281-a32d-65a137c3e782",
   "metadata": {},
   "outputs": [],
   "source": [
    "python app.py"
   ]
  },
  {
   "cell_type": "markdown",
   "id": "8a501fff-9558-466e-bcc1-dd18168548b8",
   "metadata": {},
   "source": [
    "Access the Web Interface: Open your web browser and go to http://127.0.0.1:5000/ to access the upload interface."
   ]
  },
  {
   "cell_type": "markdown",
   "id": "336cf234-0cc8-405f-b3a5-724c87315825",
   "metadata": {},
   "source": [
    "Step 4: Test the Application\n",
    "Upload a PDF file through the interface, and it should return the summarized text.\n",
    "\n",
    "Additional Considerations\n",
    "Security: Ensure to handle file uploads securely to prevent any vulnerabilities.\n",
    "Deployment: Consider deploying your app using platforms like Heroku or AWS for wider access.\n",
    "Error Handling: Add error handling for file reading and summarization steps to improve user experience.\n",
    "Feel free to customize the code and expand functionality as needed!"
   ]
  },
  {
   "cell_type": "markdown",
   "id": "187f876a-89a1-47f7-96f5-4753b97dec06",
   "metadata": {},
   "source": [
    "*CYBER SECURITY*"
   ]
  },
  {
   "cell_type": "markdown",
   "id": "7922a124-1d47-4186-bc7d-977bd32072ae",
   "metadata": {},
   "source": [
    "HOW TO ENSURE SECURE FILE UPLOADS TO PREVENT ANY VULNERABILITIES\n",
    "Handling file uploads securely is crucial to prevent vulnerabilities and potential attacks. Here are some best practices to ensure secure file uploads:\n",
    "\n",
    "1. Validate File Types\n",
    "Restrict Allowed File Types: Only allow specific file types (e.g., PDFs). You can check the file extension and MIME type."
   ]
  },
  {
   "cell_type": "code",
   "execution_count": null,
   "id": "8f639e76-b738-4cfe-b8da-0fc37dd60037",
   "metadata": {},
   "outputs": [],
   "source": [
    "allowed_extensions = {'pdf'}\n",
    "\n",
    "def allowed_file(filename):\n",
    "    return '.' in filename and filename.rsplit('.', 1)[1].lower() in allowed_extensions"
   ]
  },
  {
   "cell_type": "markdown",
   "id": "dd355b3b-e4f7-4255-ba3c-9274984b9592",
   "metadata": {},
   "source": [
    "2. Limit File Size\n",
    "Set Maximum File Size: Restrict the size of the uploaded files to prevent denial of service attacks."
   ]
  },
  {
   "cell_type": "code",
   "execution_count": null,
   "id": "6741e5ff-0a07-464f-981d-aaf201aea78e",
   "metadata": {},
   "outputs": [],
   "source": [
    "app.config['MAX_CONTENT_LENGTH'] = 16 * 1024 * 1024  # 16 MB"
   ]
  },
  {
   "cell_type": "markdown",
   "id": "009aecc2-870d-4eaf-acdf-882ee50d32fd",
   "metadata": {},
   "source": [
    "3. Use a Secure Upload Directory\n",
    "Store Uploaded Files Outside the Web Root: Keep uploaded files in a directory not accessible via the web server.\n",
    "Generate Unique Filenames: Rename uploaded files to avoid overwriting and to prevent predictable URLs."
   ]
  },
  {
   "cell_type": "code",
   "execution_count": null,
   "id": "0b555b17-0849-454b-b2ce-8ae76d90da96",
   "metadata": {},
   "outputs": [],
   "source": [
    "import secure_filename\n",
    "from werkzeug.utils import secure_filename\n",
    "\n",
    "file_path = os.path.join(app.config['UPLOAD_FOLDER'], secure_filename(file.filename))"
   ]
  },
  {
   "cell_type": "markdown",
   "id": "132bfd23-346e-4a3e-ac0c-70ab0070e577",
   "metadata": {},
   "source": [
    "4. Sanitize Input\n",
    "Sanitize Filenames: Use libraries like werkzeug to ensure that filenames do not contain unsafe characters.\n",
    "Avoid User-Controlled Paths: Do not let users specify directory paths for uploads.\n",
    "5. Use Antivirus Scanning\n",
    "Scan Files for Malware: Integrate antivirus scanning solutions to check uploaded files for malicious content.\n",
    "6. Implement Access Controls\n",
    "User Authentication: Ensure that only authenticated users can upload files.\n",
    "Authorization: Check if the user has permission to perform uploads.\n",
    "7. Set Appropriate Permissions\n",
    "File and Directory Permissions: Ensure that the uploaded files and directories have restricted permissions (e.g., not writable by the web server).\n",
    "8. Limit Execution\n",
    "Disable Script Execution: If your upload directory is web-accessible, ensure that no scripts can be executed from that directory.\n",
    "9. Monitor and Log Uploads\n",
    "Logging: Keep logs of uploaded files and user activities for auditing and monitoring.\n",
    "Alerts: Set up alerts for suspicious activities, such as multiple uploads from a single user.\n",
    "10. Regular Security Reviews\n",
    "Vulnerability Assessments: Regularly assess your application for security vulnerabilities.\n",
    "Keep Libraries Updated: Regularly update libraries and frameworks to patch known vulnerabilities.\n",
    "Example Implementation\n",
    "Here's a snippet incorporating some of these security practices in your Flask app:"
   ]
  },
  {
   "cell_type": "code",
   "execution_count": null,
   "id": "f5b83a06-533f-4720-b371-c5ec53783d1b",
   "metadata": {},
   "outputs": [],
   "source": [
    "from flask import Flask, request, render_template\n",
    "from werkzeug.utils import secure_filename\n",
    "import os\n",
    "\n",
    "app = Flask(__name__)\n",
    "app.config['UPLOAD_FOLDER'] = 'uploads/'\n",
    "app.config['MAX_CONTENT_LENGTH'] = 16 * 1024 * 1024  # 16 MB\n",
    "allowed_extensions = {'pdf'}\n",
    "\n",
    "def allowed_file(filename):\n",
    "    return '.' in filename and filename.rsplit('.', 1)[1].lower() in allowed_extensions\n",
    "\n",
    "@app.route('/')\n",
    "def upload_file():\n",
    "    return render_template('upload.html')\n",
    "\n",
    "@app.route('/upload', methods=['POST'])\n",
    "def handle_file_upload():\n",
    "    if 'file' not in request.files:\n",
    "        return \"No file uploaded\"\n",
    "    \n",
    "    file = request.files['file']\n",
    "    \n",
    "    if file.filename == '' or not allowed_file(file.filename):\n",
    "        return \"Invalid file type\"\n",
    "\n",
    "    file_path = os.path.join(app.config['UPLOAD_FOLDER'], secure_filename(file.filename))\n",
    "    file.save(file_path)\n",
    "\n",
    "    # Add antivirus scanning here (see next markdown section on how to)\n",
    "\n",
    "    return \"File uploaded successfully\""
   ]
  },
  {
   "cell_type": "markdown",
   "id": "8d44e888-7110-48f6-bc1e-3f30cdac9539",
   "metadata": {},
   "source": [
    "TO ADD ANTIVIRUS SCANNING TO FILE UPLOAD PROCESS in a Flask application, you can use an antivirus library or integrate with an external antivirus service. One common approach is to use ClamAV, an open-source antivirus engine. Here’s how you can do it:\n",
    "\n",
    "Step 1: Install ClamAV\n",
    "Install ClamAV:\n",
    "On Ubuntu/Debian:\n",
    "bash\n",
    "Copy code\n",
    "sudo apt-get install clamav clamav-daemon\n",
    "On macOS using Homebrew:\n",
    "bash\n",
    "Copy code\n",
    "brew install clamav\n",
    "Update ClamAV Database: After installing, update the virus definitions:\n",
    "bash\n",
    "Copy code\n",
    "sudo freshclam\n",
    "Step 2: Install the Python Library\n",
    "You can use the pyclamd library to interact with ClamAV from Python. Install it using pip:\n",
    "\n",
    "bash\n",
    "Copy code\n",
    "pip install pyclamd\n",
    "Step 3: Integrate Antivirus Scanning into Your Code\n",
    "Now, modify your Flask application to include antivirus scanning after the file is uploaded but before it’s processed. Here’s how you can do that:\n",
    "\n",
    "python\n",
    "Copy code\n",
    "from flask import Flask, request, render_template\n",
    "from werkzeug.utils import secure_filename\n",
    "import os\n",
    "import pyclamd\n",
    "\n",
    "app = Flask(__name__)\n",
    "app.config['UPLOAD_FOLDER'] = 'uploads/'\n",
    "app.config['MAX_CONTENT_LENGTH'] = 16 * 1024 * 1024  # 16 MB\n",
    "allowed_extensions = {'pdf'}\n",
    "\n",
    "def allowed_file(filename):\n",
    "    return '.' in filename and filename.rsplit('.', 1)[1].lower() in allowed_extensions\n",
    "\n",
    "def scan_file(file_path):\n",
    "    cd = pyclamd.ClamdUnixSocket()  # Adjust for your setup (Unix or TCP)\n",
    "    if cd.ping():  # Check if ClamAV is running\n",
    "        result = cd.scan_file(file_path)\n",
    "        return result\n",
    "    else:\n",
    "        raise RuntimeError(\"ClamAV is not running\")\n",
    "\n",
    "@app.route('/')\n",
    "def upload_file():\n",
    "    return render_template('upload.html')\n",
    "\n",
    "@app.route('/upload', methods=['POST'])\n",
    "def handle_file_upload():\n",
    "    if 'file' not in request.files:\n",
    "        return \"No file uploaded\"\n",
    "    \n",
    "    file = request.files['file']\n",
    "    \n",
    "    if file.filename == '' or not allowed_file(file.filename):\n",
    "        return \"Invalid file type\"\n",
    "\n",
    "    file_path = os.path.join(app.config['UPLOAD_FOLDER'], secure_filename(file.filename))\n",
    "    file.save(file_path)\n",
    "\n",
    "    # Scan the uploaded file for viruses\n",
    "    scan_result = scan_file(file_path)\n",
    "    if scan_result:\n",
    "        return f\"File uploaded successfully. Scan result: {scan_result}\"\n",
    "    else:\n",
    "        return \"File uploaded but no issues found.\"\n",
    "\n",
    "if __name__ == '__main__':\n",
    "    app.run(debug=True)\n",
    "Step 4: Start ClamAV Daemon\n",
    "Before running your Flask app, ensure that the ClamAV daemon is running:\n",
    "\n",
    "bash\n",
    "Copy code\n",
    "sudo systemctl start clamav-daemon\n",
    "Step 5: Run Your Application\n",
    "Now you can run your Flask application. When a file is uploaded, it will be scanned by ClamAV before any processing takes place.\n",
    "\n",
    "Notes\n",
    "Error Handling: You should add error handling for cases where ClamAV is not running or if there are issues with the scanning process.\n",
    "Performance: Scanning files may add some latency, especially for larger files, so consider this in your user experience.\n",
    "Logging: Log scan results for monitoring and auditing purposes.\n",
    "Periodic Updates: Regularly update your ClamAV database with freshclam to ensure you have the latest virus definitions.\n",
    "By integrating antivirus scanning, you enhance the security of your file upload functionality significantly!"
   ]
  },
  {
   "cell_type": "markdown",
   "id": "97d6014c-ab30-4b1c-a6fc-dd43c6bc0f18",
   "metadata": {},
   "source": [
    "HOW TO DISABLE SCRIPT EXECUTION VIA WEB Disabling script execution in a web-accessible upload directory is crucial for preventing the execution of malicious scripts. Here are several methods to achieve this, depending on the web server you are using:\n",
    "\n",
    "1. Using .htaccess (for Apache)\n",
    "If you are using Apache as your web server, you can create or modify a .htaccess file in your upload directory to disable script execution.\n",
    "\n",
    "plaintext\n",
    "Copy code\n",
    "# .htaccess file in the upload directory\n",
    "<FilesMatch \"\\.(php|pl|cgi|py|jsp|asp|sh|rb)$\">\n",
    "    Order Allow,Deny\n",
    "    Deny from all\n",
    "</FilesMatch>\n",
    "\n",
    "# Alternatively, to deny access to all scripts\n",
    "Options -ExecCGI\n",
    "AddHandler cgi-script .pl .py .jsp .asp .sh .rb\n",
    "2. Using Nginx Configuration\n",
    "For Nginx, you can configure the server block to disable script execution in the upload directory. Here's an example:\n",
    "\n",
    "nginx\n",
    "Copy code\n",
    "location /uploads/ {\n",
    "    # Deny access to script files\n",
    "    location ~ \\.(php|pl|cgi|py|jsp|asp|sh|rb)$ {\n",
    "        deny all;\n",
    "    }\n",
    "    # Serve other files normally\n",
    "    autoindex on;\n",
    "}\n",
    "3. Rename the Upload Directory\n",
    "Consider naming the upload directory in a way that avoids common script extensions. For instance, you can use a name that doesn’t imply execution, like uploads_files/. This approach helps, but is not foolproof.\n",
    "\n",
    "4. Change File Permissions\n",
    "Ensure that the permissions of the upload directory do not allow script execution. For instance, in a Linux environment, you can set the permissions as follows:\n",
    "\n",
    "bash\n",
    "Copy code\n",
    "chmod 755 uploads/\n",
    "5. Use a Separate Domain or Subdomain\n",
    "Consider serving uploaded files from a separate domain or subdomain that does not allow script execution. This isolates your main application and reduces risk.\n",
    "\n",
    "6. File Validation and Sanitization\n",
    "Even if script execution is disabled, always validate and sanitize filenames and file content to ensure no harmful files are uploaded. This can include checking the file type and size as discussed previously.\n",
    "\n",
    "7. Use a Content Security Policy (CSP)\n",
    "If applicable, implement a Content Security Policy to control resources the user agent is allowed to load. This doesn’t prevent script execution directly but adds an additional layer of security.\n",
    "\n",
    "8. Keep Uploads Outside the Web Root\n",
    "If possible, store uploads outside the web root directory. This is the most secure option, as it prevents direct access via the web server.\n",
    "\n",
    "Example Implementation for .htaccess\n",
    "Here’s an example .htaccess file that could be placed in your uploads directory:\n",
    "\n",
    "plaintext\n",
    "Copy code\n",
    "# Deny execution of scripts\n",
    "<FilesMatch \"\\.(php|pl|cgi|py|jsp|asp|sh|rb)$\">\n",
    "    Order Allow,Deny\n",
    "    Deny from all\n",
    "</FilesMatch>\n",
    "\n",
    "# Disable CGI script execution\n",
    "Options -ExecCGI\n",
    "Conclusion\n",
    "By implementing these methods, you can significantly reduce the risk of script execution in your upload directory and enhance the security of your application. Always combine these measures with other security practices for optimal protection."
   ]
  },
  {
   "cell_type": "markdown",
   "id": "85e7758e-d0b4-4b5a-9a33-48fe9c4d8ad7",
   "metadata": {},
   "source": [
    "Setting up appropriate and restricted file and directory permissions for uploaded files is crucial for enhancing the security of your application. Here’s a guide on how to configure these permissions effectively:\n",
    "\n",
    "1. Use the Principle of Least Privilege\n",
    "Grant only the minimum permissions necessary for users and processes to function. Avoid using overly permissive settings like 777, which allows everyone to read, write, and execute files.\n",
    "2. Setting Directory Permissions\n",
    "When you create your upload directory, you should restrict its permissions. Here’s how you can set up the permissions in a Unix/Linux environment:\n",
    "\n",
    "Create the Upload Directory\n",
    "\n",
    "bash\n",
    "Copy code\n",
    "mkdir uploads\n",
    "Set Directory Permissions\n",
    "\n",
    "Set the directory permissions to 755, allowing the owner to read, write, and execute, while others can only read and execute:\n",
    "\n",
    "bash\n",
    "Copy code\n",
    "chmod 755 uploads\n",
    "This allows the web server to access files but prevents other users from modifying them.\n",
    "\n",
    "3. Set User and Group Ownership\n",
    "Ensure that the upload directory and its files are owned by the web server user (e.g., www-data for Apache or Nginx on Ubuntu). You can change the ownership with:\n",
    "\n",
    "bash\n",
    "Copy code\n",
    "chown www-data:www-data uploads\n",
    "4. Set File Permissions for Uploaded Files\n",
    "When files are uploaded, you should set their permissions to 644. This allows the owner to read and write the file, while others can only read it:\n",
    "\n",
    "After File Upload\n",
    "\n",
    "Modify your file upload code to set permissions after saving the file. Here’s an example in Python:\n",
    "\n",
    "python\n",
    "Copy code\n",
    "import os\n",
    "import stat\n",
    "\n",
    "def handle_file_upload():\n",
    "    if 'file' not in request.files:\n",
    "        return \"No file uploaded\"\n",
    "    \n",
    "    file = request.files['file']\n",
    "    \n",
    "    if file.filename == '' or not allowed_file(file.filename):\n",
    "        return \"Invalid file type\"\n",
    "\n",
    "    file_path = os.path.join(app.config['UPLOAD_FOLDER'], secure_filename(file.filename))\n",
    "    file.save(file_path)\n",
    "\n",
    "    # Set file permissions to 644\n",
    "    os.chmod(file_path, stat.S_IRUSR | stat.S_IWUSR | stat.S_IRGRP | stat.S_IROTH)\n",
    "\n",
    "    return \"File uploaded successfully\"\n",
    "5. Regularly Audit Permissions\n",
    "Regularly check and audit the permissions of your upload directory and files to ensure they have not changed unintentionally.\n",
    "\n",
    "6. Remove Write Permissions for Other Users\n",
    "If the web server does not need to write to the upload directory after the initial upload, you can remove write permissions for the group and others:\n",
    "\n",
    "bash\n",
    "Copy code\n",
    "chmod 755 uploads\n",
    "This prevents any further modifications by unauthorized users.\n",
    "\n",
    "7. Configure umask for the Web Server\n",
    "Set the umask for the web server user to ensure that newly created files have restricted permissions. You can add the following line to the appropriate configuration file (e.g., /etc/profile or /etc/bash.bashrc):\n",
    "\n",
    "bash\n",
    "Copy code\n",
    "umask 002\n",
    "This ensures that files are created with 664 and directories with 775.\n",
    "\n",
    "8. Using ACLs (Access Control Lists)\n",
    "If you need more granular control over permissions, consider using ACLs. This allows you to set permissions for specific users or groups:\n",
    "\n",
    "bash\n",
    "Copy code\n",
    "# Install ACL if not installed\n",
    "sudo apt-get install acl\n",
    "\n",
    "# Set default ACL for the uploads directory\n",
    "setfacl -m u:www-data:rwx uploads\n",
    "setfacl -d -m u:www-data:rwx uploads\n",
    "Conclusion\n",
    "By carefully setting and managing file and directory permissions, you can greatly enhance the security of your file uploads. Always follow best practices, and regularly review your settings to ensure they remain secure."
   ]
  },
  {
   "cell_type": "markdown",
   "id": "0df9d232-19cb-4fbd-9174-8c10505594e5",
   "metadata": {},
   "source": [
    "SET APPROPRIATE PERMISSIONS\n",
    "File and Directory Permissions: Ensure that the uploaded files and directories have restricted permissions (e.g., not writable by the web server)."
   ]
  },
  {
   "cell_type": "markdown",
   "id": "a6959d35-a2e9-4187-aa49-5078e465f292",
   "metadata": {},
   "source": [
    "Setting up appropriate and restricted file and directory permissions for uploaded files is crucial for enhancing the security of your application. Here’s a guide on how to configure these permissions effectively:\n",
    "\n",
    "1. Use the Principle of Least Privilege\n",
    "Grant only the minimum permissions necessary for users and processes to function. Avoid using overly permissive settings like 777, which allows everyone to read, write, and execute files.\n",
    "2. Setting Directory Permissions\n",
    "When you create your upload directory, you should restrict its permissions. Here’s how you can set up the permissions in a Unix/Linux environment:\n",
    "\n",
    "Create the Upload Directory\n",
    "\n",
    "bash\n",
    "Copy code\n",
    "mkdir uploads\n",
    "Set Directory Permissions\n",
    "\n",
    "Set the directory permissions to 755, allowing the owner to read, write, and execute, while others can only read and execute:\n",
    "\n",
    "bash\n",
    "Copy code\n",
    "chmod 755 uploads\n",
    "This allows the web server to access files but prevents other users from modifying them.\n",
    "\n",
    "3. Set User and Group Ownership\n",
    "Ensure that the upload directory and its files are owned by the web server user (e.g., www-data for Apache or Nginx on Ubuntu). You can change the ownership with:\n",
    "\n",
    "bash\n",
    "Copy code\n",
    "chown www-data:www-data uploads\n",
    "4. Set File Permissions for Uploaded Files\n",
    "When files are uploaded, you should set their permissions to 644. This allows the owner to read and write the file, while others can only read it:\n",
    "\n",
    "After File Upload\n",
    "\n",
    "Modify your file upload code to set permissions after saving the file. Here’s an example in Python:\n",
    "\n",
    "python\n",
    "Copy code\n",
    "import os\n",
    "import stat\n",
    "\n",
    "def handle_file_upload():\n",
    "    if 'file' not in request.files:\n",
    "        return \"No file uploaded\"\n",
    "    \n",
    "    file = request.files['file']\n",
    "    \n",
    "    if file.filename == '' or not allowed_file(file.filename):\n",
    "        return \"Invalid file type\"\n",
    "\n",
    "    file_path = os.path.join(app.config['UPLOAD_FOLDER'], secure_filename(file.filename))\n",
    "    file.save(file_path)\n",
    "\n",
    "    # Set file permissions to 644\n",
    "    os.chmod(file_path, stat.S_IRUSR | stat.S_IWUSR | stat.S_IRGRP | stat.S_IROTH)\n",
    "\n",
    "    return \"File uploaded successfully\"\n",
    "5. Regularly Audit Permissions\n",
    "Regularly check and audit the permissions of your upload directory and files to ensure they have not changed unintentionally.\n",
    "\n",
    "6. Remove Write Permissions for Other Users\n",
    "If the web server does not need to write to the upload directory after the initial upload, you can remove write permissions for the group and others:\n",
    "\n",
    "bash\n",
    "Copy code\n",
    "chmod 755 uploads\n",
    "This prevents any further modifications by unauthorized users.\n",
    "\n",
    "7. Configure umask for the Web Server\n",
    "Set the umask for the web server user to ensure that newly created files have restricted permissions. You can add the following line to the appropriate configuration file (e.g., /etc/profile or /etc/bash.bashrc):\n",
    "\n",
    "bash\n",
    "Copy code\n",
    "umask 002\n",
    "This ensures that files are created with 664 and directories with 775.\n",
    "\n",
    "8. Using ACLs (Access Control Lists)\n",
    "If you need more granular control over permissions, consider using ACLs. This allows you to set permissions for specific users or groups:\n",
    "\n",
    "bash\n",
    "Copy code\n",
    "# Install ACL if not installed\n",
    "sudo apt-get install acl\n",
    "\n",
    "# Set default ACL for the uploads directory\n",
    "setfacl -m u:www-data:rwx uploads\n",
    "setfacl -d -m u:www-data:rwx uploads\n",
    "Conclusion\n",
    "By carefully setting and managing file and directory permissions, you can greatly enhance the security of your file uploads. Always follow best practices, and regularly review your settings to ensure they remain secure."
   ]
  },
  {
   "cell_type": "markdown",
   "id": "939c4501-ac81-4515-b2b1-8163b30b21dd",
   "metadata": {},
   "source": [
    "IMPLEMENTING ACCESS CONTROLS\n",
    "\n",
    "Implementing access controls for file uploads involves ensuring that only authenticated users can upload files and that they have the appropriate permissions to do so. Here’s a step-by-step guide on how to achieve this in a Flask application:\n",
    "\n",
    "Step 1: User Authentication\n",
    "To implement user authentication, you can use Flask extensions such as Flask-Login. This allows you to manage user sessions and handle authentication.\n",
    "\n",
    "Install Flask-Login\n",
    "\n",
    "First, install Flask-Login: \n",
    "\n",
    "pip install Flask-Login\n"
   ]
  },
  {
   "cell_type": "markdown",
   "id": "e03233c9-791f-4d31-8057-7531caf5db83",
   "metadata": {},
   "source": [
    "1. Set Up User Authentication\n",
    "\n",
    "Create a User Model: Define a user model for your application. This example assumes a simple user model using a dictionary for demonstration purposes. In a production app, you'd likely use a database."
   ]
  },
  {
   "cell_type": "code",
   "execution_count": null,
   "id": "1594691e-4d97-4941-9cae-2db1c7c2404d",
   "metadata": {},
   "outputs": [],
   "source": [
    "from flask import Flask, redirect, url_for, request, session\n",
    "from flask_login import LoginManager, UserMixin, login_user, logout_user, login_required\n",
    "\n",
    "app = Flask(__name__)\n",
    "app.secret_key = 'your_secret_key'  # Replace with your secret key\n",
    "login_manager = LoginManager()\n",
    "login_manager.init_app(app)\n",
    "\n",
    "# Sample user store (replace with a database in a real application)\n",
    "users = {'user': {'password': 'password123'}}"
   ]
  },
  {
   "cell_type": "markdown",
   "id": "6f5a5494-0a18-4d73-8192-acc9239cf807",
   "metadata": {},
   "source": [
    "2. User Loader: Implement the user loader function for Flask-Login."
   ]
  },
  {
   "cell_type": "code",
   "execution_count": null,
   "id": "8f744471-86c7-41b1-be08-77daa0e9078d",
   "metadata": {},
   "outputs": [],
   "source": [
    "@login_manager.user_loader\n",
    "def load_user(user_id):\n",
    "    return User(user_id)"
   ]
  },
  {
   "cell_type": "markdown",
   "id": "62b2580f-ed2a-46a2-94ee-811af2f06080",
   "metadata": {},
   "source": [
    "3. User Class: Define a simple user class that inherits from UserMixin."
   ]
  },
  {
   "cell_type": "code",
   "execution_count": null,
   "id": "8daeb867-c4df-4a06-8dc0-613073c2e8de",
   "metadata": {},
   "outputs": [],
   "source": [
    "class User(UserMixin):\n",
    "    def __init__(self, username):\n",
    "        self.username = username"
   ]
  },
  {
   "cell_type": "code",
   "execution_count": null,
   "id": "8ad12073-159d-4fab-ae4f-562f0aab01da",
   "metadata": {},
   "outputs": [],
   "source": [
    "4. Login Route: Create a route for user login."
   ]
  },
  {
   "cell_type": "code",
   "execution_count": null,
   "id": "d5a87bbc-84bf-4e4f-ba58-0df46e64a8ce",
   "metadata": {},
   "outputs": [],
   "source": [
    "@app.route('/login', methods=['GET', 'POST'])\n",
    "def login():\n",
    "    if request.method == 'POST':\n",
    "        username = request.form['username']\n",
    "        password = request.form['password']\n",
    "        user = users.get(username)\n",
    "\n",
    "        if user and user['password'] == password:\n",
    "            user_obj = User(username)\n",
    "            login_user(user_obj)\n",
    "            return redirect(url_for('upload_file'))\n",
    "        else:\n",
    "            return \"Invalid username or password\"\n",
    "\n",
    "    return '''\n",
    "        <form method=\"post\">\n",
    "            <input type=\"text\" name=\"username\" placeholder=\"Username\">\n",
    "            <input type=\"password\" name=\"password\" placeholder=\"Password\">\n",
    "            <input type=\"submit\" value=\"Login\">\n",
    "        </form>\n",
    "    '''"
   ]
  },
  {
   "cell_type": "code",
   "execution_count": null,
   "id": "eac0f242-2cfa-42db-ba69-309b0f129182",
   "metadata": {},
   "outputs": [],
   "source": [
    "5. Logout Route: Implement a logout route."
   ]
  },
  {
   "cell_type": "code",
   "execution_count": null,
   "id": "4b45d125-2125-46eb-82da-acab57d65276",
   "metadata": {},
   "outputs": [],
   "source": [
    "@app.route('/logout')\n",
    "@login_required\n",
    "def logout():\n",
    "    logout_user()\n",
    "    return redirect(url_for('login'))"
   ]
  },
  {
   "cell_type": "markdown",
   "id": "ce288c32-8e6c-4ea3-a02f-9712658d9da1",
   "metadata": {},
   "source": [
    "Step 2: File Upload Authorization\n",
    "Now that you have user authentication set up, you can implement authorization to check if users are allowed to upload files.\n",
    "\n",
    "1. Define User Roles: If you have different user roles (e.g., admin, regular users), define what permissions each role has."
   ]
  },
  {
   "cell_type": "code",
   "execution_count": null,
   "id": "4fea888c-e1d5-4bb0-9940-e1fcab26fa2e",
   "metadata": {},
   "outputs": [],
   "source": [
    "user_roles = {\n",
    "    'user': 'regular',\n",
    "    'admin': 'admin'\n",
    "}"
   ]
  },
  {
   "cell_type": "markdown",
   "id": "419aa086-362a-4646-a488-cd9118ad7e16",
   "metadata": {},
   "source": [
    "2. Authorization Check: Modify your file upload route to check if the authenticated user has permission to upload files."
   ]
  },
  {
   "cell_type": "code",
   "execution_count": null,
   "id": "37eab3fc-a8c9-467f-a63a-4ea2763ec1f0",
   "metadata": {},
   "outputs": [],
   "source": [
    "@app.route('/upload', methods=['POST'])\n",
    "@login_required  # Ensure the user is logged in\n",
    "def handle_file_upload():\n",
    "    # Check user permissions\n",
    "    if user_roles[session['username']] != 'admin':\n",
    "        return \"You do not have permission to upload files.\"\n",
    "\n",
    "    if 'file' not in request.files:\n",
    "        return \"No file uploaded\"\n",
    "    \n",
    "    file = request.files['file']\n",
    "    \n",
    "    if file.filename == '' or not allowed_file(file.filename):\n",
    "        return \"Invalid file type\"\n",
    "\n",
    "    file_path = os.path.join(app.config['UPLOAD_FOLDER'], secure_filename(file.filename))\n",
    "    file.save(file_path)\n",
    "\n",
    "    return \"File uploaded successfully\""
   ]
  },
  {
   "cell_type": "markdown",
   "id": "2c3b98af-e959-456c-b6dd-dfe680805d2e",
   "metadata": {},
   "source": [
    "Step 3: Protect the Upload Route\n",
    "Use the @login_required decorator from Flask-Login to protect your upload route. This ensures that only authenticated users can access it.\n",
    "\n",
    "Step 4: Test Your Implementation\n",
    "Start your Flask application.\n",
    "Navigate to the login page and enter credentials.\n",
    "Try uploading a file as a regular user and as an admin to see how permissions are enforced.\n",
    "Conclusion\n",
    "By following these steps, you can effectively implement user authentication and authorization for file uploads in your Flask application. This ensures that only authenticated users can upload files and that they have the appropriate permissions to do so. For production, consider using a database for user management and implement more robust security measures."
   ]
  },
  {
   "cell_type": "markdown",
   "id": "e410cebd-272a-473b-894f-438dc2bb12b2",
   "metadata": {},
   "source": [
    "HOW TO MONITOR AND LOG UPLOADS \n",
    "Monitoring and logging uploads is essential for maintaining security and accountability in your application. Here's how to implement logging and set up alerts for suspicious activities in a Flask application."
   ]
  },
  {
   "cell_type": "markdown",
   "id": "74431844-df07-49f2-bfe1-1aa83be0fabc",
   "metadata": {},
   "source": [
    "#Step 1: Set Up Logging\n",
    "Import the Logging Module: Start by importing Python's built-in logging module."
   ]
  },
  {
   "cell_type": "code",
   "execution_count": null,
   "id": "1f753137-a8ff-48f9-b0d9-02479dd6fae1",
   "metadata": {},
   "outputs": [],
   "source": [
    "import logging"
   ]
  },
  {
   "cell_type": "code",
   "execution_count": null,
   "id": "57cc1419-50bb-4733-b2e3-2cbd79502dda",
   "metadata": {},
   "outputs": [],
   "source": [
    "# Configure Logging: Set up the logging configuration. You can log to a file or stdout. Here’s how to log to a file:\n",
    "\n",
    "logging.basicConfig(\n",
    "    filename='upload_logs.log',  # Log file name\n",
    "    level=logging.INFO,           # Log level\n",
    "    format='%(asctime)s - %(levelname)s - %(message)s'\n",
    ")"
   ]
  },
  {
   "cell_type": "code",
   "execution_count": null,
   "id": "6167e46d-5d8b-43ae-9e8e-d19dee79a513",
   "metadata": {},
   "outputs": [],
   "source": [
    "# Log Upload Events: In your upload handling route, log relevant information such as the username, filename, and upload timestamp.\n",
    "@app.route('/upload', methods=['POST'])\n",
    "@login_required\n",
    "def handle_file_upload():\n",
    "    if 'file' not in request.files:\n",
    "        return \"No file uploaded\"\n",
    "    \n",
    "    file = request.files['file']\n",
    "    \n",
    "    if file.filename == '' or not allowed_file(file.filename):\n",
    "        return \"Invalid file type\"\n",
    "\n",
    "    file_path = os.path.join(app.config['UPLOAD_FOLDER'], secure_filename(file.filename))\n",
    "    file.save(file_path)\n",
    "\n",
    "    # Log the upload\n",
    "    logging.info(f\"User '{session['username']}' uploaded '{file.filename}'\")\n",
    "\n",
    "    return \"File uploaded successfully\""
   ]
  },
  {
   "cell_type": "markdown",
   "id": "e972ed99-6fd1-413b-946c-3cc5077558a1",
   "metadata": {},
   "source": [
    "#Step 2: Monitor User Activity\n",
    "Track Upload Count: Maintain a simple counter for the number of uploads per user in memory or in a database. This will help identify suspicious activity."
   ]
  },
  {
   "cell_type": "code",
   "execution_count": null,
   "id": "05f75184-6137-4f82-b5f2-b7a4cd51f128",
   "metadata": {},
   "outputs": [],
   "source": [
    "user_upload_count = {}\n",
    "\n",
    "@app.route('/upload', methods=['POST'])\n",
    "@login_required\n",
    "def handle_file_upload():\n",
    "    ...\n",
    "    # Increment upload count\n",
    "    username = session['username']\n",
    "    user_upload_count[username] = user_upload_count.get(username, 0) + 1\n",
    "    \n",
    "    # Check for suspicious activity (e.g., more than 5 uploads in a minute)\n",
    "    if user_upload_count[username] > 5:\n",
    "        logging.warning(f\"Suspicious activity detected: User '{username}' has uploaded {user_upload_count[username]} files.\")\n",
    "        # Here you can send an alert or take action\n",
    "\n",
    "    ..."
   ]
  },
  {
   "cell_type": "markdown",
   "id": "bbfe33a7-3052-4793-abec-a3f8283c2303",
   "metadata": {},
   "source": [
    "#Step 3: Set Up Alerts for Suspicious Activities\n",
    "Email Alerts: You can set up email alerts for suspicious activities using the smtplib library. Here’s an example:"
   ]
  },
  {
   "cell_type": "code",
   "execution_count": null,
   "id": "7b72106a-2e47-40c0-95f8-6204e20730d8",
   "metadata": {},
   "outputs": [],
   "source": [
    "import smtplib\n",
    "from email.mime.text import MIMEText\n",
    "\n",
    "def send_alert_email(username):\n",
    "    msg = MIMEText(f\"Suspicious activity detected for user: {username}\")\n",
    "    msg['Subject'] = 'Alert: Suspicious File Upload Activity'\n",
    "    msg['From'] = 'your_email@example.com'\n",
    "    msg['To'] = 'admin@example.com'\n",
    "\n",
    "    with smtplib.SMTP('smtp.example.com', 587) as server:\n",
    "        server.starttls()\n",
    "        server.login('your_email@example.com', 'your_password')\n",
    "        server.send_message(msg)\n",
    "\n",
    "# Call this function when suspicious activity is detected\n",
    "if user_upload_count[username] > 5:\n",
    "    send_alert_email(username)"
   ]
  },
  {
   "cell_type": "markdown",
   "id": "e6effcc7-9c7e-42b5-907d-e8f562d14932",
   "metadata": {},
   "source": [
    "Log Suspicious Activities: Make sure to log any suspicious activity as well, so you have a record of it:"
   ]
  },
  {
   "cell_type": "code",
   "execution_count": null,
   "id": "67cd2560-7d05-4ae5-982e-623516f46288",
   "metadata": {},
   "outputs": [],
   "source": [
    "logging.warning(f\"Suspicious activity detected: User '{username}' has uploaded {user_upload_count[username]} files.\")"
   ]
  },
  {
   "cell_type": "markdown",
   "id": "d8668f1f-6bfa-4618-bbd7-6da0e3ef5550",
   "metadata": {},
   "source": [
    "#Step 4: Regular Review and Maintenance\n",
    "1. Log Rotation: Implement log rotation to prevent your log file from becoming too large. You can use the logging.handlers module:"
   ]
  },
  {
   "cell_type": "code",
   "execution_count": null,
   "id": "466c8c4d-e8b1-4e5e-bb61-9aae8195d82b",
   "metadata": {},
   "outputs": [],
   "source": [
    "from logging.handlers import RotatingFileHandler\n",
    "\n",
    "handler = RotatingFileHandler('upload_logs.log', maxBytes=10000, backupCount=3)\n",
    "logger = logging.getLogger()\n",
    "logger.addHandler(handler)"
   ]
  },
  {
   "cell_type": "markdown",
   "id": "b0b1bf21-3486-4402-a925-58b4e1fa8de4",
   "metadata": {},
   "source": [
    "2. Regular Audits: Periodically review the logs for any unusual patterns or activities.\n",
    "   \n",
    "Conclusion\n",
    "By implementing logging and monitoring for uploads, you can enhance the security of your application and quickly respond to suspicious activities. This setup not only helps in tracking user actions but also aids in maintaining compliance with security policies and regulations."
   ]
  },
  {
   "cell_type": "code",
   "execution_count": null,
   "id": "8328fc30-4f44-4a03-8c3b-2ada8d53cf23",
   "metadata": {},
   "outputs": [],
   "source": []
  },
  {
   "cell_type": "code",
   "execution_count": null,
   "id": "f243d873-6be6-451a-b3d9-f047c82179ad",
   "metadata": {},
   "outputs": [],
   "source": []
  },
  {
   "cell_type": "code",
   "execution_count": null,
   "id": "632e7779-878f-4cf0-b2cd-f70ac297fdd6",
   "metadata": {},
   "outputs": [],
   "source": []
  },
  {
   "cell_type": "code",
   "execution_count": null,
   "id": "247bb7bc-5574-4531-b13f-6417e5ba4f3d",
   "metadata": {},
   "outputs": [],
   "source": []
  },
  {
   "cell_type": "code",
   "execution_count": null,
   "id": "aea52d8b-ef23-4e26-aa34-1a11151ba8a8",
   "metadata": {},
   "outputs": [],
   "source": []
  }
 ],
 "metadata": {
  "kernelspec": {
   "display_name": "ai_dev",
   "language": "python",
   "name": "ai_dev"
  },
  "language_info": {
   "codemirror_mode": {
    "name": "ipython",
    "version": 3
   },
   "file_extension": ".py",
   "mimetype": "text/x-python",
   "name": "python",
   "nbconvert_exporter": "python",
   "pygments_lexer": "ipython3",
   "version": "3.10.13"
  }
 },
 "nbformat": 4,
 "nbformat_minor": 5
}
